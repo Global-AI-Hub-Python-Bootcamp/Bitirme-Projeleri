{
  "nbformat": 4,
  "nbformat_minor": 0,
  "metadata": {
    "colab": {
      "name": "Proje1_Not_Sistemi.ipynb",
      "provenance": [],
      "collapsed_sections": []
    },
    "kernelspec": {
      "name": "python3",
      "display_name": "Python 3"
    },
    "language_info": {
      "name": "python"
    }
  },
  "cells": [
    {
      "cell_type": "code",
      "execution_count": null,
      "metadata": {
        "id": "OJBTQ8F1-6k7"
      },
      "outputs": [],
      "source": [
        "import pandas as pd"
      ]
    },
    {
      "cell_type": "code",
      "source": [
        "sutun_isimleri = [\"Ad\", \"Soyad\", \"Okul No\", \"Ders\", \"Puan\",\"Sonuc\",\"Durum\"]\n",
        "veri = []\n",
        "dersler = [\"Matematik\", \"Fizik\", \"Kimya\", \"Türkçe\"]"
      ],
      "metadata": {
        "id": "lugECNToA-Ps"
      },
      "execution_count": null,
      "outputs": []
    },
    {
      "cell_type": "code",
      "source": [
        "veri_seti = pd.DataFrame(data=veri, columns=sutun_isimleri)"
      ],
      "metadata": {
        "id": "kKwNnn5eAms8"
      },
      "execution_count": null,
      "outputs": []
    },
    {
      "cell_type": "code",
      "source": [
        "def not_giris():\n",
        "       isim=input(\"Öğrencinin Adı: \")\n",
        "       soyad=input(\"Öğrencinin Soyadı: \")\n",
        "       okul_no=input(\"Okul No: \")\n",
        "\n",
        "       while True:                      # Listede olmayan ders adı girildiğinde uyarı veren komutlar.\n",
        "        ders=input(\"Ders Seçiniz\\n 1-Matematik\\n 2-Fizik\\n 3-Kimya\\n 4-Türkçe\\n --> \")\n",
        "        if ders not in dersler:               \n",
        "         print(\"Lütfen listede bulunan bir dersi seçiniz.\")\n",
        "        else:\n",
        "          break\n",
        "\n",
        "       while True:                      # 100'den büyük ve 0'dan küçük sınav puanı girildiğinde uyarı veren komutlar.\n",
        "        puan1=input(\"Sınav Puanı: \")    # Ayrıca girilen değerin tam sayı olduğunu kontrol eden komutlar.\n",
        "        try:\n",
        "         puan = int(puan1)\n",
        "         if puan > 100:\n",
        "           print(\"Sınav puanı 100'den büyük olamaz!\")\n",
        "         elif puan < 0:\n",
        "           print(\"Sınav puanı 0'dan küçük olamaz!\")\n",
        "         else:\n",
        "          break\n",
        "        except ValueError:\n",
        "         print(\"Lütfen sadece tam sayı girin!\")\n",
        "      \n",
        "       \n",
        "       if puan >= 90:\n",
        "          sonuc=\"AA\"\n",
        "       elif puan >= 80:\n",
        "            sonuc=\"BA\"\n",
        "       elif puan >= 70:\n",
        "            sonuc=\"BB\"\n",
        "       elif puan >= 60:\n",
        "            sonuc=\"CB\"\n",
        "       elif puan >= 55:\n",
        "            sonuc=\"CC\"\n",
        "       elif puan >= 45:\n",
        "            sonuc=\"DC\"\n",
        "       elif puan >= 40:\n",
        "            sonuc=\"DD\"\n",
        "       else: sonuc=\"FF\"\n",
        "\n",
        "       if sonuc == \"FF\":\n",
        "          durum=\"KALDI\"\n",
        "       else: durum=\"GECTI\"\n",
        "\n",
        "\n",
        "       dict={\"Ad\":isim, \"Soyad\":soyad, \"Okul No\":okul_no,\"Ders\":ders, \"Puan\":puan, \"Sonuc\":sonuc, \"Durum\":durum}\n",
        "       veri_seti.loc[len(veri_seti)+1]=dict\n",
        "\n",
        "       \n",
        "       print(veri_seti)\n",
        "\n",
        "       writer = pd.ExcelWriter('Not_sistemi.xlsx')\n",
        "       veri_seti.to_excel(writer, 'marks')\n",
        "       writer.save()\n",
        "not_giris()\n"
      ],
      "metadata": {
        "id": "n2ZzfG7TDxbx",
        "colab": {
          "base_uri": "https://localhost:8080/"
        },
        "outputId": "3f6a0898-9108-4597-ae42-f7351df14702"
      },
      "execution_count": null,
      "outputs": [
        {
          "output_type": "stream",
          "name": "stdout",
          "text": [
            "Öğrencinin Adı: xxx\n",
            "Öğrencinin Soyadı: yyy\n",
            "Okul No: 543\n",
            "Ders Seçiniz\n",
            " 1-Matematik\n",
            " 2-Fizik\n",
            " 3-Kimya\n",
            " 4-Türkçe\n",
            " --> asd\n",
            "Lütfen listede bulunan bir dersi seçiniz.\n",
            "Ders Seçiniz\n",
            " 1-Matematik\n",
            " 2-Fizik\n",
            " 3-Kimya\n",
            " 4-Türkçe\n",
            " --> 123\n",
            "Lütfen listede bulunan bir dersi seçiniz.\n",
            "Ders Seçiniz\n",
            " 1-Matematik\n",
            " 2-Fizik\n",
            " 3-Kimya\n",
            " 4-Türkçe\n",
            " --> Fizik\n",
            "Sınav Puanı: -11\n",
            "Sınav puanı 0'dan küçük olamaz!\n",
            "Sınav Puanı: 111\n",
            "Sınav puanı 100'den büyük olamaz!\n",
            "Sınav Puanı: 67\n",
            "       Ad   Soyad Okul No       Ders Puan Sonuc  Durum\n",
            "1   Ahmet    Kara     123      Fizik   55    CC  GECTI\n",
            "2    Ayşe  Yılmaz     222     Türkçe   85    BA  GECTI\n",
            "3  Tayfun    Ateş     111  Matematik   55    CC  GECTI\n",
            "4   Hakan   Kalın      57      Fizik   25    FF  KALDI\n",
            "5    Aslı   Taşçı    4321      Kimya   40    DD  GECTI\n",
            "6     xxx     yyy     543      Fizik   67    CB  GECTI\n"
          ]
        }
      ]
    }
  ]
}